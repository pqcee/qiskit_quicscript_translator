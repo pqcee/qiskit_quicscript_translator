{
 "cells": [
  {
   "cell_type": "markdown",
   "metadata": {},
   "source": [
    "# How to use Qiskit 1.0 with QuICScript"
   ]
  },
  {
   "cell_type": "markdown",
   "metadata": {},
   "source": [
    " In this how-to guide we show how to use our translator to convert qiskit code to QuICScript. We will go into the different operations that are supported by QuICScript:\n",
    "\n",
    "- Single-qubit quantum gates\n",
    "- Multi-qubit quantum gates\n",
    "- Two-qubit quantum gates\n",
    "- Three-qubit gates"
   ]
  },
  {
   "cell_type": "code",
   "execution_count": 6,
   "metadata": {
    "ExecuteTime": {
     "end_time": "2021-07-31T05:10:06.399483Z",
     "start_time": "2021-07-31T05:10:06.113598Z"
    }
   },
   "outputs": [],
   "source": [
    "# Useful additional packages \n",
    "import numpy as np\n",
    "from math import pi"
   ]
  },
  {
   "cell_type": "code",
   "execution_count": 7,
   "metadata": {
    "ExecuteTime": {
     "end_time": "2021-07-31T05:10:07.863361Z",
     "start_time": "2021-07-31T05:10:06.401320Z"
    }
   },
   "outputs": [],
   "source": [
    "from qiskit import QuantumCircuit, QuantumRegister\n",
    "from qiskit_quicscript_translator import get_quic_circuit_string"
   ]
  },
  {
   "cell_type": "markdown",
   "metadata": {},
   "source": [
    "## Single-Qubit Gates <a name=\"single_gates\"/>\n",
    "\n",
    "The single-qubit gates available are:\n",
    "- U gate \n",
    "- Identity gate\n",
    "- Pauli gates (X,Y,Z)\n",
    "- Clifford gates (H,S,s)\n",
    "- C3 gates (T, t)\n",
    "- Standard rotation gates (Rotation around Y-axis)\n",
    "\n"
   ]
  },
  {
   "cell_type": "code",
   "execution_count": 8,
   "metadata": {
    "ExecuteTime": {
     "end_time": "2021-07-31T05:10:08.577924Z",
     "start_time": "2021-07-31T05:10:08.575044Z"
    }
   },
   "outputs": [],
   "source": [
    "q = QuantumRegister(1)"
   ]
  },
  {
   "cell_type": "markdown",
   "metadata": {},
   "source": [
    "### U gate\n",
    "\n",
    "In Qiskit we give you access to the general unitary using the $u$ gate, which has the following matrix form\n",
    "\n",
    "$$\n",
    "U(\\theta, \\phi, \\lambda) =\n",
    "    \\begin{pmatrix}\n",
    "        \\cos\\left(\\frac{\\theta}{2}\\right)          & -e^{i\\lambda}\\sin\\left(\\frac{\\theta}{2}\\right) \\\\\n",
    "        e^{i\\phi}\\sin\\left(\\frac{\\theta}{2}\\right) & e^{i(\\phi+\\lambda)}\\cos\\left(\\frac{\\theta}{2}\\right)\n",
    "    \\end{pmatrix}\n",
    "$$\n"
   ]
  },
  {
   "cell_type": "code",
   "execution_count": 9,
   "metadata": {
    "ExecuteTime": {
     "end_time": "2021-07-31T05:10:09.406278Z",
     "start_time": "2021-07-31T05:10:09.398661Z"
    }
   },
   "outputs": [
    {
     "data": {
      "text/plain": [
       "'U:'"
      ]
     },
     "execution_count": 9,
     "metadata": {},
     "output_type": "execute_result"
    }
   ],
   "source": [
    "qc = QuantumCircuit(q)\n",
    "qc.u(pi/2,pi/4,pi/8,q)\n",
    "get_quic_circuit_string(qc)"
   ]
  },
  {
   "cell_type": "markdown",
   "metadata": {},
   "source": [
    "### Identity gate\n",
    "\n",
    "The identity gate is $Id = p(0)$."
   ]
  },
  {
   "cell_type": "code",
   "execution_count": 10,
   "metadata": {
    "ExecuteTime": {
     "end_time": "2021-07-31T05:11:00.799001Z",
     "start_time": "2021-07-31T05:11:00.794172Z"
    }
   },
   "outputs": [
    {
     "data": {
      "text/plain": [
       "'I:'"
      ]
     },
     "execution_count": 10,
     "metadata": {},
     "output_type": "execute_result"
    }
   ],
   "source": [
    "qc = QuantumCircuit(q)\n",
    "qc.id(q)\n",
    "get_quic_circuit_string(qc)"
   ]
  },
  {
   "cell_type": "markdown",
   "metadata": {},
   "source": [
    "### Pauli gates\n",
    "\n",
    "#### $X$: bit-flip gate\n",
    "\n",
    "The bit-flip gate $X$ is defined as:\n",
    "\n",
    "$$\n",
    "X   =  \n",
    "\\begin{pmatrix}\n",
    "0 & 1\\\\\n",
    "1 & 0\n",
    "\\end{pmatrix}= u(\\pi,0,\\pi)\n",
    "$$"
   ]
  },
  {
   "cell_type": "code",
   "execution_count": 11,
   "metadata": {
    "ExecuteTime": {
     "end_time": "2021-07-31T05:11:05.287138Z",
     "start_time": "2021-07-31T05:11:05.281859Z"
    }
   },
   "outputs": [
    {
     "data": {
      "text/plain": [
       "'X:'"
      ]
     },
     "execution_count": 11,
     "metadata": {},
     "output_type": "execute_result"
    }
   ],
   "source": [
    "qc = QuantumCircuit(q)\n",
    "qc.x(q)\n",
    "get_quic_circuit_string(qc)"
   ]
  },
  {
   "cell_type": "markdown",
   "metadata": {},
   "source": [
    "#### $Y$: bit- and phase-flip gate\n",
    "\n",
    "The $Y$ gate is defined as:\n",
    "\n",
    "$$\n",
    "Y  = \n",
    "\\begin{pmatrix}\n",
    "0 & -i\\\\\n",
    "i & 0\n",
    "\\end{pmatrix}=u(\\pi,\\pi/2,\\pi/2)\n",
    "$$"
   ]
  },
  {
   "cell_type": "code",
   "execution_count": 12,
   "metadata": {
    "ExecuteTime": {
     "end_time": "2021-07-31T05:11:09.274252Z",
     "start_time": "2021-07-31T05:11:09.270141Z"
    }
   },
   "outputs": [
    {
     "data": {
      "text/plain": [
       "'Y:'"
      ]
     },
     "execution_count": 12,
     "metadata": {},
     "output_type": "execute_result"
    }
   ],
   "source": [
    "qc = QuantumCircuit(q)\n",
    "qc.y(q)\n",
    "get_quic_circuit_string(qc)"
   ]
  },
  {
   "cell_type": "markdown",
   "metadata": {},
   "source": [
    "#### $Z$: phase-flip gate\n",
    "\n",
    "The phase-flip gate $Z$ is defined as:\n",
    "\n",
    "$$\n",
    "Z = \n",
    "\\begin{pmatrix}\n",
    "1 & 0\\\\\n",
    "0 & -1\n",
    "\\end{pmatrix}=p(\\pi)\n",
    "$$"
   ]
  },
  {
   "cell_type": "code",
   "execution_count": 13,
   "metadata": {
    "ExecuteTime": {
     "end_time": "2021-07-31T05:11:13.903719Z",
     "start_time": "2021-07-31T05:11:13.898408Z"
    }
   },
   "outputs": [
    {
     "data": {
      "text/plain": [
       "'Z:'"
      ]
     },
     "execution_count": 13,
     "metadata": {},
     "output_type": "execute_result"
    }
   ],
   "source": [
    "qc = QuantumCircuit(q)\n",
    "qc.z(q)\n",
    "get_quic_circuit_string(qc)"
   ]
  },
  {
   "cell_type": "markdown",
   "metadata": {},
   "source": [
    "### Clifford gates\n",
    "\n",
    "#### Hadamard gate\n",
    "\n",
    "$$\n",
    "H = \n",
    "\\frac{1}{\\sqrt{2}}\n",
    "\\begin{pmatrix}\n",
    "1 & 1\\\\\n",
    "1 & -1\n",
    "\\end{pmatrix}= u(\\pi/2,0,\\pi)\n",
    "$$"
   ]
  },
  {
   "cell_type": "code",
   "execution_count": 14,
   "metadata": {
    "ExecuteTime": {
     "end_time": "2021-07-31T05:11:24.374244Z",
     "start_time": "2021-07-31T05:11:24.369684Z"
    }
   },
   "outputs": [
    {
     "data": {
      "text/plain": [
       "'H:'"
      ]
     },
     "execution_count": 14,
     "metadata": {},
     "output_type": "execute_result"
    }
   ],
   "source": [
    "qc = QuantumCircuit(q)\n",
    "qc.h(q)\n",
    "get_quic_circuit_string(qc)"
   ]
  },
  {
   "cell_type": "markdown",
   "metadata": {},
   "source": [
    "#### $S$ (or, $\\sqrt{Z}$ phase) gate\n",
    "\n",
    "$$\n",
    "S = \n",
    "\\begin{pmatrix}\n",
    "1 & 0\\\\\n",
    "0 & i\n",
    "\\end{pmatrix}= p(\\pi/2)\n",
    "$$"
   ]
  },
  {
   "cell_type": "code",
   "execution_count": 15,
   "metadata": {
    "ExecuteTime": {
     "end_time": "2021-07-31T05:11:27.577029Z",
     "start_time": "2021-07-31T05:11:27.572229Z"
    }
   },
   "outputs": [
    {
     "data": {
      "text/plain": [
       "'S:'"
      ]
     },
     "execution_count": 15,
     "metadata": {},
     "output_type": "execute_result"
    }
   ],
   "source": [
    "qc = QuantumCircuit(q)\n",
    "qc.s(q)\n",
    "get_quic_circuit_string(qc)"
   ]
  },
  {
   "cell_type": "markdown",
   "metadata": {},
   "source": [
    "#### $S^{\\dagger}$ (or, conjugate of $\\sqrt{Z}$ phase) gate\n",
    "\n",
    "$$\n",
    "S^{\\dagger} = \n",
    "\\begin{pmatrix}\n",
    "1 & 0\\\\\n",
    "0 & -i\n",
    "\\end{pmatrix}= p(-\\pi/2)\n",
    "$$\n"
   ]
  },
  {
   "cell_type": "code",
   "execution_count": 16,
   "metadata": {
    "ExecuteTime": {
     "end_time": "2021-07-31T05:11:31.674786Z",
     "start_time": "2021-07-31T05:11:31.669677Z"
    }
   },
   "outputs": [
    {
     "data": {
      "text/plain": [
       "'s:'"
      ]
     },
     "execution_count": 16,
     "metadata": {},
     "output_type": "execute_result"
    }
   ],
   "source": [
    "qc = QuantumCircuit(q)\n",
    "qc.sdg(q)\n",
    "get_quic_circuit_string(qc)"
   ]
  },
  {
   "cell_type": "markdown",
   "metadata": {},
   "source": [
    "### $C3$ gates\n",
    "#### $T$ (or, $\\sqrt{S}$ phase) gate\n",
    "\n",
    "$$\n",
    "T = \n",
    "\\begin{pmatrix}\n",
    "1 & 0\\\\\n",
    "0 & e^{i \\pi/4}\n",
    "\\end{pmatrix}= p(\\pi/4) \n",
    "$$"
   ]
  },
  {
   "cell_type": "code",
   "execution_count": 17,
   "metadata": {
    "ExecuteTime": {
     "end_time": "2021-07-31T05:11:35.573569Z",
     "start_time": "2021-07-31T05:11:35.568858Z"
    }
   },
   "outputs": [
    {
     "data": {
      "text/plain": [
       "'T:'"
      ]
     },
     "execution_count": 17,
     "metadata": {},
     "output_type": "execute_result"
    }
   ],
   "source": [
    "qc = QuantumCircuit(q)\n",
    "qc.t(q)\n",
    "get_quic_circuit_string(qc)"
   ]
  },
  {
   "cell_type": "markdown",
   "metadata": {},
   "source": [
    "#### $T^{\\dagger}$ (or, conjugate of $\\sqrt{S}$ phase) gate\n",
    "\n",
    "$$\n",
    "T^{\\dagger} =  \n",
    "\\begin{pmatrix}\n",
    "1 & 0\\\\\n",
    "0 & e^{-i \\pi/4}\n",
    "\\end{pmatrix}= p(-\\pi/4)\n",
    "$$"
   ]
  },
  {
   "cell_type": "code",
   "execution_count": 18,
   "metadata": {
    "ExecuteTime": {
     "end_time": "2021-07-31T05:11:39.747528Z",
     "start_time": "2021-07-31T05:11:39.742799Z"
    }
   },
   "outputs": [
    {
     "data": {
      "text/plain": [
       "'t:'"
      ]
     },
     "execution_count": 18,
     "metadata": {},
     "output_type": "execute_result"
    }
   ],
   "source": [
    "qc = QuantumCircuit(q)\n",
    "qc.tdg(q)\n",
    "get_quic_circuit_string(qc)"
   ]
  },
  {
   "cell_type": "markdown",
   "metadata": {},
   "source": [
    "#### Rotation around Y-axis\n",
    "\n",
    "$$\n",
    "R_y(\\theta) =\n",
    "\\begin{pmatrix}\n",
    "\\cos(\\theta/2) & - \\sin(\\theta/2)\\\\\n",
    "\\sin(\\theta/2) & \\cos(\\theta/2).\n",
    "\\end{pmatrix} =u(\\theta,0,0)\n",
    "$$"
   ]
  },
  {
   "cell_type": "code",
   "execution_count": 19,
   "metadata": {
    "ExecuteTime": {
     "end_time": "2021-07-31T05:11:48.483090Z",
     "start_time": "2021-07-31T05:11:48.477062Z"
    }
   },
   "outputs": [
    {
     "data": {
      "text/plain": [
       "'U:'"
      ]
     },
     "execution_count": 19,
     "metadata": {},
     "output_type": "execute_result"
    }
   ],
   "source": [
    "qc = QuantumCircuit(q)\n",
    "qc.ry(pi/2,q)\n",
    "get_quic_circuit_string(qc)"
   ]
  },
  {
   "cell_type": "markdown",
   "metadata": {},
   "source": [
    "Note this is different due only to a global phase."
   ]
  },
  {
   "cell_type": "markdown",
   "metadata": {},
   "source": [
    "\n",
    "### Controlled operations on qubits\n",
    "\n",
    "A common multi-qubit gate involves the application of a gate to one qubit, conditioned on the state of another qubit. For instance, we might want to flip the state of the second qubit when the first qubit is in $\\left|0\\right\\rangle$. Such gates are known as _controlled gates_. The standard multi-qubit gates consist of two-qubit gates and three-qubit gates. The two-qubit gates are:\n",
    "- controlled Pauli gates\n",
    "- controlled rotation gates\n",
    "\n",
    "The three-qubit gates are: \n",
    "- Toffoli gate "
   ]
  },
  {
   "cell_type": "code",
   "execution_count": 20,
   "metadata": {
    "ExecuteTime": {
     "end_time": "2021-07-31T05:11:57.864527Z",
     "start_time": "2021-07-31T05:11:57.861603Z"
    }
   },
   "outputs": [],
   "source": [
    "q = QuantumRegister(2)"
   ]
  },
  {
   "cell_type": "markdown",
   "metadata": {},
   "source": [
    "### Controlled Pauli Gates\n",
    "\n",
    "#### Controlled-X (or, Controlled-NOT) gate\n",
    "The Controlled-NOT gate flips the `target` qubit when the control qubit is in the state $\\left|1\\right\\rangle$. If we take the MSB as the control qubit (e.g. `cx(q[1],q[0])`), then the matrix would look like\n",
    "\n",
    "$$\n",
    "C_X = \n",
    "\\begin{pmatrix}\n",
    "1 & 0 & 0 & 0\\\\\n",
    "0 & 1 & 0 & 0\\\\\n",
    "0 & 0 & 0 & 1\\\\\n",
    "0 & 0 & 1 & 0\n",
    "\\end{pmatrix}. \n",
    "$$\n",
    "\n",
    "However, when the LSB is the control qubit, (e.g. `cx(q[0],q[1])`), this gate is equivalent to the following matrix:\n",
    "\n",
    "$$\n",
    "C_X = \n",
    "\\begin{pmatrix}\n",
    "1 & 0 & 0 & 0\\\\\n",
    "0 & 0 & 0 & 1\\\\\n",
    "0 & 0 & 1 & 0\\\\\n",
    "0 & 1 & 0 & 0\n",
    "\\end{pmatrix}. \n",
    "$$\n",
    "\n"
   ]
  },
  {
   "cell_type": "code",
   "execution_count": 21,
   "metadata": {
    "ExecuteTime": {
     "end_time": "2021-07-31T05:11:59.251955Z",
     "start_time": "2021-07-31T05:11:59.245837Z"
    }
   },
   "outputs": [
    {
     "data": {
      "text/plain": [
       "'CN:'"
      ]
     },
     "execution_count": 21,
     "metadata": {},
     "output_type": "execute_result"
    }
   ],
   "source": [
    "qc = QuantumCircuit(q)\n",
    "qc.cx(q[0],q[1])\n",
    "get_quic_circuit_string(qc)"
   ]
  },
  {
   "cell_type": "markdown",
   "metadata": {},
   "source": [
    "### Controlled phase rotation\n",
    "\n",
    "Perform a phase rotation if both qubits are in the $\\left|11\\right\\rangle$ state. The matrix looks the same regardless of whether the MSB or LSB is the control qubit.\n",
    "\n",
    "$$\n",
    "C_{p}(\\lambda) = \n",
    "\\begin{pmatrix}\n",
    "1 & 0 & 0 & 0\\\\\n",
    "0 & 1 & 0 & 0\\\\\n",
    "0 & 0 & 1 & 0\\\\\n",
    "0 & 0 & 0 & e^{i\\lambda}\n",
    "\\end{pmatrix}\n",
    "$$"
   ]
  },
  {
   "cell_type": "code",
   "execution_count": 22,
   "metadata": {
    "ExecuteTime": {
     "end_time": "2021-07-31T05:12:36.826264Z",
     "start_time": "2021-07-31T05:12:36.820988Z"
    }
   },
   "outputs": [
    {
     "data": {
      "text/plain": [
       "'CP:'"
      ]
     },
     "execution_count": 22,
     "metadata": {},
     "output_type": "execute_result"
    }
   ],
   "source": [
    "qc = QuantumCircuit(q)\n",
    "qc.cp(pi/2,q[0], q[1])\n",
    "get_quic_circuit_string(qc)"
   ]
  },
  {
   "cell_type": "markdown",
   "metadata": {},
   "source": [
    "### Controlled $u$ rotation\n",
    "\n",
    "Perform controlled-$u$ rotation on the target qubit if the control qubit (here LSB) is $\\left|1\\right\\rangle$. \n",
    "\n",
    "$$\n",
    "C_{u}(\\theta, \\phi, \\lambda) \\equiv \n",
    "\\begin{pmatrix}\n",
    "1 & 0 & 0 & 0\\\\\n",
    "0 & e^{-i(\\phi+\\lambda)/2}\\cos(\\theta/2) & 0 & -e^{-i(\\phi-\\lambda)/2}\\sin(\\theta/2)\\\\\n",
    "0 & 0 & 1 & 0\\\\\n",
    "0 & e^{i(\\phi-\\lambda)/2}\\sin(\\theta/2) & 0 & e^{i(\\phi+\\lambda)/2}\\cos(\\theta/2)\n",
    "\\end{pmatrix}.\n",
    "$$"
   ]
  },
  {
   "cell_type": "code",
   "execution_count": 23,
   "metadata": {
    "ExecuteTime": {
     "end_time": "2021-07-31T05:13:19.155213Z",
     "start_time": "2021-07-31T05:13:19.148466Z"
    }
   },
   "outputs": [
    {
     "data": {
      "text/plain": [
       "'CU:'"
      ]
     },
     "execution_count": 23,
     "metadata": {},
     "output_type": "execute_result"
    }
   ],
   "source": [
    "qc = QuantumCircuit(q)\n",
    "qc.cu(pi/2, pi/2, pi/2, 0, q[0], q[1])\n",
    "get_quic_circuit_string(qc)\n",
    "# qc.draw()"
   ]
  },
  {
   "cell_type": "markdown",
   "metadata": {},
   "source": [
    "### Toffoli gate ($ccn gate)\n",
    "\n",
    "The [Toffoli gate](https://en.wikipedia.org/wiki/Quantum_logic_gate#Toffoli_(CCNOT)_gate) flips the third qubit if the first two qubits (LSB) are both $\\left|1\\right\\rangle$:\n",
    "\n",
    "$$\\left|abc\\right\\rangle \\rightarrow \\left|bc\\oplus a\\right\\rangle \\otimes \\left|b\\right\\rangle \\otimes \\left|c\\right\\rangle.$$\n",
    "\n",
    "In matrix form, the Toffoli gate is\n",
    "$$\n",
    "C_{CX} = \n",
    "\\begin{pmatrix}\n",
    "1 & 0 & 0 & 0 & 0 & 0 & 0 & 0\\\\\n",
    "0 & 1 & 0 & 0 & 0 & 0 & 0 & 0\\\\\n",
    "0 & 0 & 1 & 0 & 0 & 0 & 0 & 0\\\\\n",
    "0 & 0 & 0 & 0 & 0 & 0 & 0 & 1\\\\\n",
    "0 & 0 & 0 & 0 & 1 & 0 & 0 & 0\\\\\n",
    "0 & 0 & 0 & 0 & 0 & 1 & 0 & 0\\\\\n",
    "0 & 0 & 0 & 0 & 0 & 0 & 1 & 0\\\\\n",
    "0 & 0 & 0 & 1 & 0 & 0 & 0 & 0\n",
    "\\end{pmatrix}.\n",
    "$$"
   ]
  },
  {
   "cell_type": "code",
   "execution_count": 24,
   "metadata": {
    "ExecuteTime": {
     "end_time": "2021-07-31T05:13:31.317251Z",
     "start_time": "2021-07-31T05:13:31.314100Z"
    }
   },
   "outputs": [],
   "source": [
    "q = QuantumRegister(3)"
   ]
  },
  {
   "cell_type": "code",
   "execution_count": 25,
   "metadata": {
    "ExecuteTime": {
     "end_time": "2021-07-31T05:13:31.638567Z",
     "start_time": "2021-07-31T05:13:31.633001Z"
    }
   },
   "outputs": [
    {
     "data": {
      "text/plain": [
       "'CCN:'"
      ]
     },
     "execution_count": 25,
     "metadata": {},
     "output_type": "execute_result"
    }
   ],
   "source": [
    "qc = QuantumCircuit(q)\n",
    "qc.ccx(q[0], q[1], q[2])\n",
    "get_quic_circuit_string(qc)"
   ]
  },
  {
   "cell_type": "markdown",
   "metadata": {},
   "source": [
    "### Further details:\n",
    "\n",
    "How does the desired state get generated behind the scenes? The main methods that we use are get_quic_circuit_string and get_quic_circuit_file_string. See the code here for more details. https://github.com/pqcee/qiskit-pqcee-provider/blob/main/qiskit_pqcee_provider/quic/backend.py#L157"
   ]
  }
 ],
 "metadata": {
  "anaconda-cloud": {},
  "kernelspec": {
   "display_name": ".translator",
   "language": "python",
   "name": "python3"
  },
  "language_info": {
   "codemirror_mode": {
    "name": "ipython",
    "version": 3
   },
   "file_extension": ".py",
   "mimetype": "text/x-python",
   "name": "python",
   "nbconvert_exporter": "python",
   "pygments_lexer": "ipython3",
   "version": "3.10.12"
  },
  "varInspector": {
   "cols": {
    "lenName": 16,
    "lenType": 16,
    "lenVar": 40
   },
   "kernels_config": {
    "python": {
     "delete_cmd_postfix": "",
     "delete_cmd_prefix": "del ",
     "library": "var_list.py",
     "varRefreshCmd": "print(var_dic_list())"
    },
    "r": {
     "delete_cmd_postfix": ") ",
     "delete_cmd_prefix": "rm(",
     "library": "var_list.r",
     "varRefreshCmd": "cat(var_dic_list()) "
    }
   },
   "types_to_exclude": [
    "module",
    "function",
    "builtin_function_or_method",
    "instance",
    "_Feature"
   ],
   "window_display": false
  }
 },
 "nbformat": 4,
 "nbformat_minor": 1
}
