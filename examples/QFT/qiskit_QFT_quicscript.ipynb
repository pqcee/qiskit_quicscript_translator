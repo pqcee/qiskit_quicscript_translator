{
 "cells": [
  {
   "cell_type": "markdown",
   "id": "a5f91135-a46e-41c0-bfa3-4070f420579a",
   "metadata": {},
   "source": [
    "## Running Quicscript QFT using Qiskit\n",
    "Reference: https://quantumcomputinguk.org/tutorials/quantum-fourier-transform-in-qiskit"
   ]
  },
  {
   "cell_type": "markdown",
   "id": "e5d62e2f-6e67-4e4b-9ac3-c0e9fcd33527",
   "metadata": {},
   "source": [
    "### Loading Library"
   ]
  },
  {
   "cell_type": "code",
   "execution_count": 2,
   "id": "e9c237ab-da1a-4500-8a37-d5b7172d18fe",
   "metadata": {},
   "outputs": [],
   "source": [
    "from qiskit import QuantumRegister, ClassicalRegister\n",
    "from qiskit import QuantumCircuit\n",
    "from qiskit.circuit.library import QFT\n",
    "from qiskit_aer import Aer\n",
    "import numpy as np\n",
    "\n",
    "pi = np.pi"
   ]
  },
  {
   "cell_type": "markdown",
   "id": "3f32dda4-08d3-4fbd-b8f9-6f29ad1157a2",
   "metadata": {},
   "source": [
    "### Loading QFT"
   ]
  },
  {
   "cell_type": "code",
   "execution_count": 5,
   "id": "18c1a159-daf4-44e6-9f34-edb35f7b5c54",
   "metadata": {},
   "outputs": [
    {
     "name": "stdout",
     "output_type": "stream",
     "text": [
      "     ┌───┐┌──────┐┌───────┐┌─┐            \n",
      "q_0: ┤ X ├┤0     ├┤0      ├┤M├────────────\n",
      "     └───┘│      ││       │└╥┘┌─┐         \n",
      "q_1: ─────┤1     ├┤1      ├─╫─┤M├─────────\n",
      "     ┌───┐│      ││       │ ║ └╥┘┌─┐      \n",
      "q_2: ┤ X ├┤2 qft ├┤2 qfti ├─╫──╫─┤M├──────\n",
      "     └───┘│      ││       │ ║  ║ └╥┘┌─┐   \n",
      "q_3: ─────┤3     ├┤3      ├─╫──╫──╫─┤M├───\n",
      "     ┌───┐│      ││       │ ║  ║  ║ └╥┘┌─┐\n",
      "q_4: ┤ X ├┤4     ├┤4      ├─╫──╫──╫──╫─┤M├\n",
      "     └───┘└──────┘└───────┘ ║  ║  ║  ║ └╥┘\n",
      "c: 5/═══════════════════════╩══╩══╩══╩══╩═\n",
      "                            0  1  2  3  4 \n"
     ]
    }
   ],
   "source": [
    "q = QuantumRegister(5,'q')\n",
    "c = ClassicalRegister(5,'c')\n",
    "\n",
    "circuit = QuantumCircuit(q,c)\n",
    "\n",
    "circuit.x(q[4])\n",
    "circuit.x(q[2])\n",
    "circuit.x(q[0])\n",
    "qft = QFT(num_qubits=5, approximation_degree=0, do_swaps=True, inverse=False, insert_barriers=False, name='qft')\n",
    "circuit.append(qft, qargs=[0, 1, 2, 3, 4])\n",
    "qfti = QFT(num_qubits=5, approximation_degree=0, do_swaps=True, inverse=True, insert_barriers=False, name='qfti')\n",
    "circuit.append(qfti, qargs=[0, 1, 2, 3, 4])\n",
    "circuit.measure(q,c)\n",
    "circuit.draw(output='mpl')\n",
    "print(circuit)"
   ]
  },
  {
   "cell_type": "markdown",
   "id": "7eca802a",
   "metadata": {},
   "source": [
    "## Running Qiskit Simulator"
   ]
  },
  {
   "cell_type": "code",
   "execution_count": 18,
   "id": "9725caa3-68e7-4b13-be46-cc43da58a24e",
   "metadata": {},
   "outputs": [
    {
     "name": "stdout",
     "output_type": "stream",
     "text": [
      "10101 => (21, np.complex128(1-7.088954791644251e-16j))\n"
     ]
    }
   ],
   "source": [
    "from qiskit_aer import Aer\n",
    "simulator = Aer.get_backend('statevector_simulator')\n",
    "result = simulator.run(circuit.decompose(reps=6)).result()\n",
    "sv = result.get_statevector(circuit)\n",
    "arr = []\n",
    "for i, x in enumerate(sv.data):\n",
    "    data = x\n",
    "    if data != 0:\n",
    "        arr.append((i,data))\n",
    "for x in arr:\n",
    "    print(\"{0:b} => {1}\".format(x[0],x))"
   ]
  },
  {
   "cell_type": "markdown",
   "id": "e245825b",
   "metadata": {},
   "source": [
    "> `10101` is the only data, hence the probability of it's 100%"
   ]
  },
  {
   "cell_type": "markdown",
   "id": "189b09ef",
   "metadata": {},
   "source": [
    "## Translate Qiskit to QuICScript"
   ]
  },
  {
   "cell_type": "code",
   "execution_count": 15,
   "id": "cb2e49fb-77a7-4786-8eae-36a41f4c3fc8",
   "metadata": {},
   "outputs": [],
   "source": [
    "## Translate to Quicscript\n",
    "from qiskit_quicscript_translator import get_quic_circuit_file_string\n",
    "file_string = get_quic_circuit_file_string(circuit.decompose(reps=6))"
   ]
  },
  {
   "cell_type": "code",
   "execution_count": 19,
   "id": "eccaf131-a678-472d-816c-37037e14724d",
   "metadata": {
    "scrolled": true
   },
   "outputs": [
    {
     "data": {
      "text/plain": [
       "'# 5\\n{U 3.141592653589793 0.0 3.141592653589793}\\nUIIII,\\n{U 3.141592653589793 0.0 3.141592653589793}\\nIIUII,\\n{U 3.141592653589793 0.0 3.141592653589793}\\nIIIIU,\\n{U 1.5707963267948966 0.0 3.141592653589793}\\nIIIIU,\\n{U 0.0 0.0 0.7853981633974483}\\nIIIIU,\\nIIINC,\\n{U 0.0 0.0 -0.7853981633974483}\\nIIIUI,\\nIIINC,\\n{U 0.0 0.0 0.7853981633974483}\\nIIIUI,\\n{U 1.5707963267948966 0.0 3.141592653589793}\\nIIIUI,\\n{U 0.0 0.0 0.7853981633974483}\\nIIIUI,\\n{U 0.0 0.0 0.39269908169872414}\\nIIIIU,\\nIINIC,\\n{U 0.0 0.0 -0.39269908169872414}\\nIIUII,\\nIINIC,\\n{U 0.0 0.0 0.39269908169872414}\\nIIUII,\\nIINCI,\\n{U 0.0 0.0 -0.7853981633974483}\\nIIUII,\\nIINCI,\\n{U 0.0 0.0 0.7853981633974483}\\nIIUII,\\n{U 1.5707963267948966 0.0 3.141592653589793}\\nIIUII,\\n{U 0.0 0.0 0.7853981633974483}\\nIIUII,\\n{U 0.0 0.0 0.39269908169872414}\\nIIIUI,\\n{U 0.0 0.0 0.19634954084936207}\\nIIIIU,\\nINIIC,\\n{U 0.0 0.0 -0.19634954084936207}\\nIUIII,\\nINIIC,\\n{U 0.0 0.0 0.19634954084936207}\\nIUIII,\\nINICI,\\n{U 0.0 0.0 -0.39269908169872414}\\nIUIII,\\nINICI,\\n{U 0.0 0.0 0.39269908169872414}\\nIUIII,\\nINCII,\\n{U 0.0 0.0 -0.7853981633974483}\\nIUIII,\\nINCII,\\n{U 0.0 0.0 0.7853981633974483}\\nIUIII,\\n{U 1.5707963267948966 0.0 3.141592653589793}\\nIUIII,\\n{U 0.0 0.0 0.7853981633974483}\\nIUIII,\\n{U 0.0 0.0 0.39269908169872414}\\nIIUII,\\n{U 0.0 0.0 0.19634954084936207}\\nIIIUI,\\n{U 0.0 0.0 0.09817477042468103}\\nIIIIU,\\nNIIIC,\\n{U 0.0 0.0 -0.09817477042468103}\\nUIIII,\\nNIIIC,\\n{U 0.0 0.0 0.09817477042468103}\\nUIIII,\\nNIICI,\\n{U 0.0 0.0 -0.19634954084936207}\\nUIIII,\\nNIICI,\\n{U 0.0 0.0 0.19634954084936207}\\nUIIII,\\nNICII,\\n{U 0.0 0.0 -0.39269908169872414}\\nUIIII,\\nNICII,\\n{U 0.0 0.0 0.39269908169872414}\\nUIIII,\\nNCIII,\\n{U 0.0 0.0 -0.7853981633974483}\\nUIIII,\\nNCIII,\\n{U 0.0 0.0 0.7853981633974483}\\nUIIII,\\n{U 1.5707963267948966 0.0 3.141592653589793}\\nUIIII,\\nCIIIN,\\nICINI,\\n{U 0.0 0.0 -0.39269908169872414}\\nIIUII,\\nINICI,\\nICINI,\\nICINI,\\nINICI,\\nICINI,\\n{U 0.0 0.0 -0.7853981633974483}\\nIUIII,\\n{U 0.0 0.0 -0.19634954084936207}\\nIIIUI,\\nNIIIC,\\nCIIIN,\\nCIIIN,\\nNIIIC,\\nCIIIN,\\n{U 1.5707963267948966 0.0 3.141592653589793}\\nUIIII,\\nNCIII,\\n{U 0.0 0.0 0.7853981633974483}\\nUIIII,\\nNCIII,\\n{U 0.0 0.0 -0.7853981633974483}\\nUIIII,\\n{U 1.5707963267948966 0.0 3.141592653589793}\\nIUIII,\\nNICII,\\n{U 0.0 0.0 0.39269908169872414}\\nUIIII,\\nNICII,\\n{U 0.0 0.0 -0.39269908169872414}\\nUIIII,\\n{U 0.0 0.0 -0.7853981633974483}\\nIIUII,\\nINCII,\\n{U 0.0 0.0 0.7853981633974483}\\nIUIII,\\nINCII,\\n{U 0.0 0.0 -0.7853981633974483}\\nIUIII,\\n{U 1.5707963267948966 0.0 3.141592653589793}\\nIIUII,\\nNIICI,\\n{U 0.0 0.0 0.19634954084936207}\\nUIIII,\\nNIICI,\\n{U 0.0 0.0 -0.19634954084936207}\\nUIIII,\\n{U 0.0 0.0 -0.39269908169872414}\\nIIIUI,\\nINICI,\\n{U 0.0 0.0 0.39269908169872414}\\nIUIII,\\nINICI,\\n{U 0.0 0.0 -0.39269908169872414}\\nIUIII,\\n{U 0.0 0.0 -0.7853981633974483}\\nIIIUI,\\nIINCI,\\n{U 0.0 0.0 0.7853981633974483}\\nIIUII,\\nIINCI,\\n{U 0.0 0.0 -0.7853981633974483}\\nIIUII,\\n{U 1.5707963267948966 0.0 3.141592653589793}\\nIIIUI,\\n{U 0.0 0.0 -0.09817477042468103}\\nIIIIU,\\nNIIIC,\\n{U 0.0 0.0 0.09817477042468103}\\nUIIII,\\nNIIIC,\\n{U 0.0 0.0 -0.09817477042468103}\\nUIIII,\\n{U 0.0 0.0 -0.19634954084936207}\\nIIIIU,\\nINIIC,\\n{U 0.0 0.0 0.19634954084936207}\\nIUIII,\\nINIIC,\\n{U 0.0 0.0 -0.19634954084936207}\\nIUIII,\\n{U 0.0 0.0 -0.39269908169872414}\\nIIIIU,\\nIINIC,\\n{U 0.0 0.0 0.39269908169872414}\\nIIUII,\\nIINIC,\\n{U 0.0 0.0 -0.39269908169872414}\\nIIUII,\\n{U 0.0 0.0 -0.7853981633974483}\\nIIIIU,\\nIIINC,\\n{U 0.0 0.0 0.7853981633974483}\\nIIIUI,\\nIIINC,\\n{U 0.0 0.0 -0.7853981633974483}\\nIIIUI,\\n{U 1.5707963267948966 0.0 3.141592653589793}\\nIIIIU:'"
      ]
     },
     "execution_count": 19,
     "metadata": {},
     "output_type": "execute_result"
    }
   ],
   "source": [
    "file_string"
   ]
  },
  {
   "cell_type": "code",
   "execution_count": 22,
   "id": "02f25d2f-0c7c-4484-a225-9f70b26c9fc5",
   "metadata": {},
   "outputs": [],
   "source": [
    "# Save to file\n",
    "f = open(\"quicscript_qft.txt\", \"w\")\n",
    "f.write(file_string)\n",
    "f.close()"
   ]
  },
  {
   "cell_type": "markdown",
   "id": "6765ed1a",
   "metadata": {},
   "source": [
    "### Result from running on QuICScript File-Based\n",
    "```\n",
    "Result of File execution:\n",
    "00000,0.00%;\n",
    "00001,0.00%;\n",
    "00010,0.00%;\n",
    "00011,0.00%;\n",
    "00100,0.00%;\n",
    "00101,0.00%;\n",
    "00110,0.00%;\n",
    "00111,0.00%;\n",
    "01000,0.00%;\n",
    "01001,0.00%;\n",
    "01010,0.00%;\n",
    "01011,0.00%;\n",
    "01100,0.00%;\n",
    "01101,0.00%;\n",
    "01110,0.00%;\n",
    "01111,0.00%;\n",
    "10000,0.00%;\n",
    "10001,0.00%;\n",
    "10010,0.00%;\n",
    "10011,0.00%;\n",
    "10100,0.00%;\n",
    "10101,100.00%;\n",
    "10110,0.00%;\n",
    "10111,0.00%;\n",
    "11000,0.00%;\n",
    "11001,0.00%;\n",
    "11010,0.00%;\n",
    "11011,0.00%;\n",
    "11100,0.00%;\n",
    "11101,0.00%;\n",
    "11110,0.00%;\n",
    "11111,0.00%;\n",
    "```\n",
    "\n",
    "> Evidently see that `10101` is 100% which is the same as the qiskit simulator as it's the only result from the simulation"
   ]
  }
 ],
 "metadata": {
  "kernelspec": {
   "display_name": "Python 3 (ipykernel)",
   "language": "python",
   "name": "python3"
  },
  "language_info": {
   "codemirror_mode": {
    "name": "ipython",
    "version": 3
   },
   "file_extension": ".py",
   "mimetype": "text/x-python",
   "name": "python",
   "nbconvert_exporter": "python",
   "pygments_lexer": "ipython3",
   "version": "3.12.4"
  }
 },
 "nbformat": 4,
 "nbformat_minor": 5
}
